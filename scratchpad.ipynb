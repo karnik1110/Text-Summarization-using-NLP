{
 "cells": [
  {
   "cell_type": "code",
   "execution_count": 5,
   "metadata": {},
   "outputs": [],
   "source": [
    "# Load model directly\n",
    "from transformers import AutoTokenizer, AutoModelForSeq2SeqLM, AutoModelForSequenceClassification\n",
    "\n",
    "# tokenizer = AutoTokenizer.from_pretrained(\"mrm8488/t5-base-finetuned-summarize-news\")\n",
    "# model = AutoModelForSeq2SeqLM.from_pretrained(\"mrm8488/t5-base-finetuned-summarize-news\")"
   ]
  },
  {
   "cell_type": "code",
   "execution_count": 3,
   "metadata": {},
   "outputs": [
    {
     "data": {
      "text/plain": [
       "'?This fucker? This fucker?'"
      ]
     },
     "execution_count": 3,
     "metadata": {},
     "output_type": "execute_result"
    }
   ],
   "source": [
    "def summarize(text, max_length=150):\n",
    "  input_ids = tokenizer.encode(text, return_tensors=\"pt\", add_special_tokens=True)\n",
    "\n",
    "  generated_ids = model.generate(input_ids=input_ids, num_beams=2, max_length=max_length,  repetition_penalty=2.5, length_penalty=1.0, early_stopping=True)\n",
    "\n",
    "  preds = [tokenizer.decode(g, skip_special_tokens=True, clean_up_tokenization_spaces=True) for g in generated_ids]\n",
    "\n",
    "  return preds[0]\n",
    "\n",
    "summarize(\"summarize this fucker\")"
   ]
  },
  {
   "cell_type": "code",
   "execution_count": 7,
   "metadata": {},
   "outputs": [
    {
     "name": "stderr",
     "output_type": "stream",
     "text": [
      "/Users/karnik/Documents/298Bv2/Text-Summarization-using-NLP/.venv/lib/python3.9/site-packages/transformers/pipelines/text_classification.py:105: UserWarning: `return_all_scores` is now deprecated,  if want a similar functionality use `top_k=None` instead of `return_all_scores=True` or `top_k=1` instead of `return_all_scores=False`.\n",
      "  warnings.warn(\n"
     ]
    }
   ],
   "source": [
    "\n",
    "tokenizer = AutoTokenizer.from_pretrained(\"wesleyacheng/news-topic-classification-with-bert\")\n",
    "model = AutoModelForSequenceClassification.from_pretrained(\"wesleyacheng/news-topic-classification-with-bert\")\n",
    "\n",
    "pipe = TextClassificationPipeline(model=model, tokenizer=tokenizer)\n",
    "prediction = pipe(\"The text to predict\", return_all_scores=True)"
   ]
  },
  {
   "cell_type": "code",
   "execution_count": 14,
   "metadata": {},
   "outputs": [
    {
     "data": {
      "text/plain": [
       "{'label': 'Sci/Tech', 'score': 0.5074297189712524}"
      ]
     },
     "execution_count": 14,
     "metadata": {},
     "output_type": "execute_result"
    }
   ],
   "source": [
    "# Print the result\n",
    "# Flatten the nested list of dictionaries\n",
    "flat_data = [item for sublist in prediction for item in sublist]\n",
    "\n",
    "# Find the maximum key-value pair based on the \"score\"\n",
    "max_pair = max(flat_data, key=lambda x: x['score'])\n",
    "max_pair"
   ]
  },
  {
   "cell_type": "code",
   "execution_count": 11,
   "metadata": {},
   "outputs": [
    {
     "data": {
      "text/plain": [
       "[[{'label': 'World', 'score': 0.2582227885723114},\n",
       "  {'label': 'Sports', 'score': 0.06299050152301788},\n",
       "  {'label': 'Business', 'score': 0.17135702073574066},\n",
       "  {'label': 'Sci/Tech', 'score': 0.5074297189712524}]]"
      ]
     },
     "execution_count": 11,
     "metadata": {},
     "output_type": "execute_result"
    }
   ],
   "source": [
    "prediction"
   ]
  },
  {
   "cell_type": "code",
   "execution_count": 2,
   "metadata": {},
   "outputs": [],
   "source": [
    "import spacy\n",
    "from spacy.lang.en.stop_words import STOP_WORDS\n",
    "import en_core_web_sm\n",
    "nlp= en_core_web_sm.load()\n",
    "nlp= spacy.load(\"en_core_web_sm\")"
   ]
  },
  {
   "cell_type": "code",
   "execution_count": 2,
   "metadata": {},
   "outputs": [
    {
     "data": {
      "text/plain": [
       "1426"
      ]
     },
     "execution_count": 2,
     "metadata": {},
     "output_type": "execute_result"
    }
   ],
   "source": [
    "text = \"\"\"At least 11 people were stabbed Sunday in Albuquerque, New Mexico -- and police believe the same suspect was responsible for each attack.\n",
    "\"Officers are investigating 7 possible scenes -- stretching from Downtown to Central and Wyoming -- with reports of 11 stabbing victims,\" the Albuquerque Police Department tweeted Sunday evening.\n",
    "Tobias Gutierrez, 43, was arrested in connection to the stabbings. He is charged with two counts of aggravated battery with a deadly weapon, police said. \n",
    "A knife was found near Gutierrez at the time of his arrest and was later collected as evidence, said Albuquerque Police Department spokesperson Gilbert Gallegos.\n",
    "Gutierrez was booked into the Bernalillo County Metropolitan Detention Center overnight.\n",
    "CNN has been unable to determine if Gutierrez has retained an attorney at this time.\n",
    "Police said the stabbings were reported throughout the day Sunday, with incidents taking place across Albuquerque, including a homeless encampment, a gas station and an apartment complex, according to an incident report.\n",
    "Witnesses told police they saw a man who looked like Gutierrez allegedly holding a knife and trying to stab and cut people.\n",
    "No deaths have been reported, but two victims are in critical condition, Gallegos said. The Albuquerque Police Department has not identified a motive for the attacks.\n",
    "Gutierrez is expected in court Tuesday, the New Mexico Public Defender's Office told CNN.\"\"\"\n",
    "\n",
    "len(text)"
   ]
  },
  {
   "cell_type": "code",
   "execution_count": 3,
   "metadata": {},
   "outputs": [
    {
     "name": "stdout",
     "output_type": "stream",
     "text": [
      "India vs Australia: A billion hearts break as India lose the ICC 2023 World Cup final\n",
      "By Cherylann Mollan BBC News, Mumbai\n",
      "Getty Images\n",
      "India lost the final by six wickets\n",
      "Millions of Indians are nursing broken hearts after the national cricket team lost to Australia in the World Cup final on Sunday.\n",
      "Australia, who have now lifted the World Cup six times, won by six wickets with seven overs left to play.\n",
      "The team beat South Africa in the semi-final while India beat New Zealand to make it to the final.\n",
      "The match was played in the world's largest stadium in the western state of Gujarat.\n",
      "Cricket is the most popular sport in India and more than 100,000 fans showed up at the Narendra Modi stadium in Ahmedabad city to cheer on the team.\n",
      "The stadium looked like a sea of blue as spectators sported team jerseys in support of their favourite players.\n",
      "Those who were unable to travel to Ahmedabad tuned in from their homes to watch the match, hoping that India would lift the Cup. India last won the World Cup in 2011.\n",
      "But the hopes of millions of Indians were dashed after Australia defeated India and thousands took to social media to express their disappointment over India's loss.\n",
      "\"Heartbreak continues for India,\" wrote one user on X (formerly Twitter), while another said \"this hurts more than anything\".\n",
      "Many of India's top actors and sporting stars also took to X to congratulate the Indian cricket team for their stellar performance throughout the World Cup and to offer support after their loss.\n",
      "\"It's a sport and there are always a bad day or two. Unfortunately it happened today, but thank you Team India for making us so proud of our sporting legacy in cricket. You bring too much cheer to the whole of India,\" wrote Bollywood superstar Shah Rukh Khan who was among the spectators in the stadium.\n",
      "Olympic medalist Abhinav Bindra congratulated the Australian cricket team over their win and expressed solidarity with team India.\n",
      "\"You may not have clinched the final, but your performance was every bit the epitome of champions. Every match, every run, every wicket was a testament to your skill, spirit, and sportsmanship,\" he wrote.\n",
      "Many fans also expressed hope about India winning the next World Cup.\n",
      "\"India's World Cup journey might have hit a speed bump, but remember, even the greatest stories have their unexpected chapters. This is just a plot twist, not the end,\" wrote one X user.\n",
      "\"This game was an example that hard work doesn't always pay, sometimes luck matters too. Better luck next time team India,\" wrote another.\n",
      "On Sunday, Australia won the toss and put India in to bat. The Australian pacers were lethal, bowling India out for just 240 runs. It was the first time in the tournament that the Indian side lost all 10 wickets.\n",
      "India put up a brave fight in their bowling attack, with Mohammed Shami and Jasprit Bumrah getting rid of three of Australia's top batters in the first seven overs.\n",
      "But despite India's best efforts, Australia put up a stubborn batting partnership and managed to defeat India with six wickets to spare.\n",
      "BBC News India is now on YouTube. Click here to subscribe and watch our documentaries, explainers and features.\n"
     ]
    }
   ],
   "source": [
    "from newsplease import NewsPlease\n",
    "article = NewsPlease.from_url('https://www.bbc.com/news/world-asia-india-67471098')\n",
    "print(article.maintext)"
   ]
  }
 ],
 "metadata": {
  "kernelspec": {
   "display_name": ".venv",
   "language": "python",
   "name": "python3"
  },
  "language_info": {
   "codemirror_mode": {
    "name": "ipython",
    "version": 3
   },
   "file_extension": ".py",
   "mimetype": "text/x-python",
   "name": "python",
   "nbconvert_exporter": "python",
   "pygments_lexer": "ipython3",
   "version": "3.9.6"
  }
 },
 "nbformat": 4,
 "nbformat_minor": 2
}
